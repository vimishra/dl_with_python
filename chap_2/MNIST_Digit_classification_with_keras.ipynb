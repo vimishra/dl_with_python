{
  "nbformat": 4,
  "nbformat_minor": 0,
  "metadata": {
    "colab": {
      "name": "Untitled8.ipynb",
      "provenance": [],
      "authorship_tag": "ABX9TyOe08Uum3SmwTNElLhGWvNq",
      "include_colab_link": true
    },
    "kernelspec": {
      "name": "python3",
      "display_name": "Python 3"
    },
    "language_info": {
      "name": "python"
    }
  },
  "cells": [
    {
      "cell_type": "markdown",
      "metadata": {
        "id": "view-in-github",
        "colab_type": "text"
      },
      "source": [
        "<a href=\"https://colab.research.google.com/github/vimishra/dl_with_python/blob/main/chap_2/MNIST_Digit_classification_with_keras.ipynb\" target=\"_parent\"><img src=\"https://colab.research.google.com/assets/colab-badge.svg\" alt=\"Open In Colab\"/></a>"
      ]
    },
    {
      "cell_type": "markdown",
      "metadata": {
        "id": "4phAzwhZzd4p"
      },
      "source": [
        "# MNIST Digit classification using a Neural Network\n",
        "\n",
        "This is the hello world program of the DL world. Creating the most basic example to be used."
      ]
    },
    {
      "cell_type": "code",
      "metadata": {
        "id": "YFnP4hy_zaur"
      },
      "source": [
        "from keras.datasets import mnist\n",
        "(train_images, train_labels), (test_images,test_labes) = mnist.load_data()"
      ],
      "execution_count": null,
      "outputs": []
    },
    {
      "cell_type": "markdown",
      "metadata": {
        "id": "eAJeFkIBzcNX"
      },
      "source": [
        ""
      ]
    }
  ]
}