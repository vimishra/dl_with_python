{
  "nbformat": 4,
  "nbformat_minor": 0,
  "metadata": {
    "colab": {
      "name": "Untitled8.ipynb",
      "provenance": [],
      "authorship_tag": "ABX9TyP4LnaNDckodrjv+rJ5H6DT",
      "include_colab_link": true
    },
    "kernelspec": {
      "name": "python3",
      "display_name": "Python 3"
    },
    "language_info": {
      "name": "python"
    },
    "accelerator": "GPU"
  },
  "cells": [
    {
      "cell_type": "markdown",
      "metadata": {
        "id": "view-in-github",
        "colab_type": "text"
      },
      "source": [
        "<a href=\"https://colab.research.google.com/github/vimishra/dl_with_python/blob/main/chap_2/MNIST_Digit_classification_with_keras.ipynb\" target=\"_parent\"><img src=\"https://colab.research.google.com/assets/colab-badge.svg\" alt=\"Open In Colab\"/></a>"
      ]
    },
    {
      "cell_type": "markdown",
      "metadata": {
        "id": "4phAzwhZzd4p"
      },
      "source": [
        "# MNIST Digit classification using a Neural Network\n",
        "\n",
        "This is the hello world program of the DL world. Creating the most basic example to be used."
      ]
    },
    {
      "cell_type": "markdown",
      "metadata": {
        "id": "Nu2vOtrH0Pzr"
      },
      "source": [
        "## Load the MNIST database\n",
        "\n",
        "There are four numpy arrays that are loaded as part of the MNIST load.\n",
        "\n",
        "1. `train_images` - these are the training images.\n",
        "2. `train_labels` - these are the training labels.\n",
        "3. `test_images` - these are the test images.\n",
        "4. `test_labels` - these are the test labels.\n",
        "\n",
        "The training set (consisting of `train_images` and `train_labels` is what the model will learn from. And we will test our learning on the test set (`test_images` and `test_labels`.\n",
        "\n",
        "\n"
      ]
    },
    {
      "cell_type": "code",
      "metadata": {
        "id": "YFnP4hy_zaur"
      },
      "source": [
        "# Load the MNIST dataset\n",
        "from keras.datasets import mnist\n",
        "(train_images, train_labels), (test_images,test_labels) = mnist.load_data()"
      ],
      "execution_count": null,
      "outputs": []
    },
    {
      "cell_type": "code",
      "metadata": {
        "colab": {
          "base_uri": "https://localhost:8080/"
        },
        "id": "2W3Obph1075x",
        "outputId": "8428b271-e22a-44e0-ceb8-c32a6f98c56a"
      },
      "source": [
        "# Check the shape of the training data\n",
        "print(train_images.shape)\n",
        "# check the lenth of the training labels\n",
        "print(len(train_labels))\n",
        "# print the training labels\n",
        "print(train_labels)\n"
      ],
      "execution_count": null,
      "outputs": [
        {
          "output_type": "stream",
          "text": [
            "(60000, 28, 28)\n",
            "60000\n",
            "[5 0 4 ... 5 6 8]\n"
          ],
          "name": "stdout"
        }
      ]
    },
    {
      "cell_type": "code",
      "metadata": {
        "colab": {
          "base_uri": "https://localhost:8080/"
        },
        "id": "55aMpnBx1mcH",
        "outputId": "b80ea7a5-15b1-4fa5-bfa4-dd10eca345d8"
      },
      "source": [
        "# Repeat this for the test data\n",
        "print(test_images.shape)\n",
        "# check the lenth of the training labels\n",
        "print(len(test_labels))\n",
        "# print the training labels\n",
        "print(test_labels)"
      ],
      "execution_count": null,
      "outputs": [
        {
          "output_type": "stream",
          "text": [
            "(10000, 28, 28)\n",
            "10000\n",
            "[7 2 1 ... 4 5 6]\n"
          ],
          "name": "stdout"
        }
      ]
    },
    {
      "cell_type": "code",
      "metadata": {
        "id": "XMO3sDVj3Gi0"
      },
      "source": [
        "# Build the NN architecture\n",
        "from tensorflow.keras import models\n",
        "from tensorflow.keras import layers\n",
        "model = models.Sequential([\n",
        "                           layers.Dense(784,activation='relu'),\n",
        "                           layers.Dense(10, activation='softmax')\n",
        "])\n",
        "\n",
        "model.compile(optimizer=\"rmsprop\", loss=\"sparse_categorical_crossentropy\",metrics=[\"accuracy\"])"
      ],
      "execution_count": null,
      "outputs": []
    },
    {
      "cell_type": "code",
      "metadata": {
        "id": "CymKdPn04H2V"
      },
      "source": [
        "# Preprocess the data\n",
        "train_images = train_images.reshape((60000,28*28))\n",
        "train_images = train_images.astype('float32')/255\n",
        "test_images = test_images.reshape((10000, 28 * 28))\n",
        "test_images = test_images.astype('float32')/255"
      ],
      "execution_count": null,
      "outputs": []
    },
    {
      "cell_type": "code",
      "metadata": {
        "id": "c76xzcx94bg9",
        "colab": {
          "base_uri": "https://localhost:8080/"
        },
        "outputId": "9235c408-7ea9-48e6-f3ac-832a6f9a8ad1"
      },
      "source": [
        "# Train the model now\n",
        "model.fit(train_images, train_labels, epochs=10, batch_size=128)"
      ],
      "execution_count": null,
      "outputs": [
        {
          "output_type": "stream",
          "text": [
            "Epoch 1/10\n",
            "469/469 [==============================] - 1s 2ms/step - loss: 0.0293 - accuracy: 0.9915\n",
            "Epoch 2/10\n",
            "469/469 [==============================] - 1s 2ms/step - loss: 0.0224 - accuracy: 0.9932\n",
            "Epoch 3/10\n",
            "469/469 [==============================] - 1s 2ms/step - loss: 0.0172 - accuracy: 0.9951\n",
            "Epoch 4/10\n",
            "469/469 [==============================] - 1s 2ms/step - loss: 0.0136 - accuracy: 0.9961\n",
            "Epoch 5/10\n",
            "469/469 [==============================] - 1s 2ms/step - loss: 0.0108 - accuracy: 0.9969\n",
            "Epoch 6/10\n",
            "469/469 [==============================] - 1s 2ms/step - loss: 0.0083 - accuracy: 0.9976\n",
            "Epoch 7/10\n",
            "469/469 [==============================] - 1s 2ms/step - loss: 0.0064 - accuracy: 0.9985\n",
            "Epoch 8/10\n",
            "469/469 [==============================] - 1s 2ms/step - loss: 0.0050 - accuracy: 0.9987\n",
            "Epoch 9/10\n",
            "469/469 [==============================] - 1s 2ms/step - loss: 0.0039 - accuracy: 0.9990\n",
            "Epoch 10/10\n",
            "469/469 [==============================] - 1s 2ms/step - loss: 0.0035 - accuracy: 0.9989\n"
          ],
          "name": "stdout"
        },
        {
          "output_type": "execute_result",
          "data": {
            "text/plain": [
              "<tensorflow.python.keras.callbacks.History at 0x7f4420073f50>"
            ]
          },
          "metadata": {
            "tags": []
          },
          "execution_count": 14
        }
      ]
    },
    {
      "cell_type": "code",
      "metadata": {
        "colab": {
          "base_uri": "https://localhost:8080/"
        },
        "id": "Qut-9WDb5l7g",
        "outputId": "fb82c2a9-6a68-4887-a648-9bcb5f5a8d46"
      },
      "source": [
        "# Let's check how accurate this is. \n",
        "test_digits = test_images[0:10]\n",
        "predictions = model.predict(test_digits)\n",
        "for i in range(10):\n",
        "  print(\"Value Predicted : \",predictions[i].argmax(), \"  |  Value labeled : \", test_labels[i])\n",
        "  print(\"----------------------------------------------\")\n"
      ],
      "execution_count": 20,
      "outputs": [
        {
          "output_type": "stream",
          "text": [
            "Value Predicted :  7   |  Value labeled :  7\n",
            "----------------------------------------------\n",
            "Value Predicted :  2   |  Value labeled :  2\n",
            "----------------------------------------------\n",
            "Value Predicted :  1   |  Value labeled :  1\n",
            "----------------------------------------------\n",
            "Value Predicted :  0   |  Value labeled :  0\n",
            "----------------------------------------------\n",
            "Value Predicted :  4   |  Value labeled :  4\n",
            "----------------------------------------------\n",
            "Value Predicted :  1   |  Value labeled :  1\n",
            "----------------------------------------------\n",
            "Value Predicted :  4   |  Value labeled :  4\n",
            "----------------------------------------------\n",
            "Value Predicted :  9   |  Value labeled :  9\n",
            "----------------------------------------------\n",
            "Value Predicted :  5   |  Value labeled :  5\n",
            "----------------------------------------------\n",
            "Value Predicted :  9   |  Value labeled :  9\n",
            "----------------------------------------------\n"
          ],
          "name": "stdout"
        }
      ]
    },
    {
      "cell_type": "code",
      "metadata": {
        "colab": {
          "base_uri": "https://localhost:8080/"
        },
        "id": "qDxHqNMI6a4j",
        "outputId": "bcd0d1d5-b52c-4301-b785-db4b2ef2990c"
      },
      "source": [
        "# Let's evaluate the performance of the model\n",
        "test_loss, test_acc = model.evaluate(test_images, test_labels)\n",
        "print(f\"test_acc: {test_acc}\")"
      ],
      "execution_count": 21,
      "outputs": [
        {
          "output_type": "stream",
          "text": [
            "313/313 [==============================] - 1s 1ms/step - loss: 0.0825 - accuracy: 0.9825\n",
            "test_acc: 0.9825000166893005\n"
          ],
          "name": "stdout"
        }
      ]
    }
  ]
}