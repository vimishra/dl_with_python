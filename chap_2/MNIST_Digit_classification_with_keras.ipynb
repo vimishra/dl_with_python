{
  "nbformat": 4,
  "nbformat_minor": 0,
  "metadata": {
    "colab": {
      "name": "Untitled8.ipynb",
      "provenance": [],
      "authorship_tag": "ABX9TyMPsg60EuD1Yvhjrv9Zk0jw",
      "include_colab_link": true
    },
    "kernelspec": {
      "name": "python3",
      "display_name": "Python 3"
    },
    "language_info": {
      "name": "python"
    },
    "accelerator": "GPU"
  },
  "cells": [
    {
      "cell_type": "markdown",
      "metadata": {
        "id": "view-in-github",
        "colab_type": "text"
      },
      "source": [
        "<a href=\"https://colab.research.google.com/github/vimishra/dl_with_python/blob/main/chap_2/MNIST_Digit_classification_with_keras.ipynb\" target=\"_parent\"><img src=\"https://colab.research.google.com/assets/colab-badge.svg\" alt=\"Open In Colab\"/></a>"
      ]
    },
    {
      "cell_type": "markdown",
      "metadata": {
        "id": "4phAzwhZzd4p"
      },
      "source": [
        "# MNIST Digit classification using a Neural Network\n",
        "\n",
        "This is the hello world program of the DL world. Creating the most basic example to be used."
      ]
    },
    {
      "cell_type": "markdown",
      "metadata": {
        "id": "Nu2vOtrH0Pzr"
      },
      "source": [
        "## Load the MNIST database\n",
        "\n",
        "There are four numpy arrays that are loaded as part of the MNIST load.\n",
        "\n",
        "1. `train_images` - these are the training images.\n",
        "2. `train_labels` - these are the training labels.\n",
        "3. `test_images` - these are the test images.\n",
        "4. `test_labels` - these are the test labels.\n",
        "\n",
        "The training set (consisting of `train_images` and `train_labels` is what the model will learn from. And we will test our learning on the test set (`test_images` and `test_labels`.\n",
        "\n",
        "\n"
      ]
    },
    {
      "cell_type": "code",
      "metadata": {
        "id": "YFnP4hy_zaur"
      },
      "source": [
        "# Load the MNIST dataset\n",
        "from keras.datasets import mnist\n",
        "(train_images, train_labels), (test_images,test_labels) = mnist.load_data()"
      ],
      "execution_count": 2,
      "outputs": []
    },
    {
      "cell_type": "code",
      "metadata": {
        "id": "2W3Obph1075x"
      },
      "source": [
        "# Check the shape of the training data\n",
        "train_im"
      ],
      "execution_count": null,
      "outputs": []
    },
    {
      "cell_type": "markdown",
      "metadata": {
        "id": "eAJeFkIBzcNX"
      },
      "source": [
        ""
      ]
    },
    {
      "cell_type": "markdown",
      "metadata": {
        "id": "ydNL-kNn0kYF"
      },
      "source": [
        ""
      ]
    }
  ]
}